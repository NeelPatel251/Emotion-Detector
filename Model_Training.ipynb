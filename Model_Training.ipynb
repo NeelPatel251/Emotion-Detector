{
 "cells": [
  {
   "cell_type": "code",
   "execution_count": 4,
   "id": "281f45d9",
   "metadata": {},
   "outputs": [
    {
     "name": "stdout",
     "output_type": "stream",
     "text": [
      "Collecting keras_preprocessing\n",
      "  Using cached Keras_Preprocessing-1.1.2-py2.py3-none-any.whl (42 kB)\n",
      "Requirement already satisfied: six>=1.9.0 in c:\\users\\lenovo\\anaconda3\\lib\\site-packages (from keras_preprocessing) (1.16.0)\n",
      "Requirement already satisfied: numpy>=1.9.1 in c:\\users\\lenovo\\anaconda3\\lib\\site-packages (from keras_preprocessing) (1.26.3)\n",
      "Installing collected packages: keras-preprocessing\n",
      "Successfully installed keras-preprocessing-1.1.2\n"
     ]
    },
    {
     "name": "stderr",
     "output_type": "stream",
     "text": [
      "WARNING: Ignoring invalid distribution -rotobuf (c:\\users\\lenovo\\anaconda3\\lib\\site-packages)\n",
      "WARNING: Ignoring invalid distribution -ensorflow-intel (c:\\users\\lenovo\\anaconda3\\lib\\site-packages)\n",
      "WARNING: Ignoring invalid distribution -rotobuf (c:\\users\\lenovo\\anaconda3\\lib\\site-packages)\n",
      "WARNING: Ignoring invalid distribution -ensorflow-intel (c:\\users\\lenovo\\anaconda3\\lib\\site-packages)\n",
      "WARNING: Ignoring invalid distribution -rotobuf (c:\\users\\lenovo\\anaconda3\\lib\\site-packages)\n",
      "WARNING: Ignoring invalid distribution -ensorflow-intel (c:\\users\\lenovo\\anaconda3\\lib\\site-packages)\n",
      "WARNING: Ignoring invalid distribution -rotobuf (c:\\users\\lenovo\\anaconda3\\lib\\site-packages)\n",
      "WARNING: Ignoring invalid distribution -ensorflow-intel (c:\\users\\lenovo\\anaconda3\\lib\\site-packages)\n",
      "WARNING: Ignoring invalid distribution -rotobuf (c:\\users\\lenovo\\anaconda3\\lib\\site-packages)\n",
      "WARNING: Ignoring invalid distribution -ensorflow-intel (c:\\users\\lenovo\\anaconda3\\lib\\site-packages)\n",
      "WARNING: Ignoring invalid distribution -rotobuf (c:\\users\\lenovo\\anaconda3\\lib\\site-packages)\n",
      "WARNING: Ignoring invalid distribution -ensorflow-intel (c:\\users\\lenovo\\anaconda3\\lib\\site-packages)\n",
      "WARNING: Ignoring invalid distribution -rotobuf (c:\\users\\lenovo\\anaconda3\\lib\\site-packages)\n",
      "WARNING: Ignoring invalid distribution -ensorflow-intel (c:\\users\\lenovo\\anaconda3\\lib\\site-packages)\n"
     ]
    }
   ],
   "source": [
    "!pip install keras_preprocessing"
   ]
  },
  {
   "cell_type": "markdown",
   "id": "d79bfde0",
   "metadata": {},
   "source": [
    "Dataset is downloaded from kaggle , \n",
    "link = https://www.kaggle.com/datasets/ananthu017/emotion-detection-fer/data"
   ]
  },
  {
   "cell_type": "code",
   "execution_count": 3,
   "id": "3f5b6d46",
   "metadata": {},
   "outputs": [
    {
     "name": "stderr",
     "output_type": "stream",
     "text": [
      "C:\\Users\\Lenovo\\anaconda3\\lib\\site-packages\\scipy\\__init__.py:146: UserWarning: A NumPy version >=1.16.5 and <1.23.0 is required for this version of SciPy (detected version 1.26.3\n",
      "  warnings.warn(f\"A NumPy version >={np_minversion} and <{np_maxversion}\"\n"
     ]
    },
    {
     "name": "stdout",
     "output_type": "stream",
     "text": [
      "WARNING:tensorflow:From C:\\Users\\Lenovo\\anaconda3\\lib\\site-packages\\keras\\src\\losses.py:2976: The name tf.losses.sparse_softmax_cross_entropy is deprecated. Please use tf.compat.v1.losses.sparse_softmax_cross_entropy instead.\n",
      "\n"
     ]
    }
   ],
   "source": [
    "from keras.utils import to_categorical\n",
    "from keras_preprocessing.image import load_img\n",
    "from keras.models import Sequential\n",
    "from keras.layers import Dense, Conv2D, Dropout, Flatten, MaxPooling2D\n",
    "import os\n",
    "import pandas as pd\n",
    "import numpy as np\n",
    "import matplotlib.pyplot as plt\n",
    "%matplotlib inline"
   ]
  },
  {
   "cell_type": "code",
   "execution_count": 6,
   "id": "135668a6",
   "metadata": {},
   "outputs": [],
   "source": [
    "TRAIN_DIR = 'train'\n",
    "TEST_DIR = 'test'"
   ]
  },
  {
   "cell_type": "code",
   "execution_count": 7,
   "id": "b141b493",
   "metadata": {},
   "outputs": [],
   "source": [
    "def createdataframe(dir):\n",
    "    image_paths = []\n",
    "    labels = []\n",
    "    for label in os.listdir(dir):\n",
    "        for imagename in os.listdir(os.path.join(dir,label)):\n",
    "            image_paths.append(os.path.join(dir,label,imagename))\n",
    "            labels.append(label)\n",
    "        print(label, \"completed\")\n",
    "    return image_paths,labels"
   ]
  },
  {
   "cell_type": "code",
   "execution_count": 8,
   "id": "9763bb5d",
   "metadata": {},
   "outputs": [
    {
     "name": "stdout",
     "output_type": "stream",
     "text": [
      "angry completed\n",
      "disgust completed\n",
      "fear completed\n",
      "happy completed\n",
      "neutral completed\n",
      "sad completed\n",
      "surprise completed\n"
     ]
    }
   ],
   "source": [
    "train = pd.DataFrame()\n",
    "train['image'], train['label'] = createdataframe(TRAIN_DIR)"
   ]
  },
  {
   "cell_type": "code",
   "execution_count": 9,
   "id": "5d4f14eb",
   "metadata": {},
   "outputs": [
    {
     "name": "stdout",
     "output_type": "stream",
     "text": [
      "angry completed\n",
      "disgust completed\n",
      "fear completed\n",
      "happy completed\n",
      "neutral completed\n",
      "sad completed\n",
      "surprise completed\n"
     ]
    }
   ],
   "source": [
    "test = pd.DataFrame()\n",
    "test['image'], test['label'] = createdataframe(TEST_DIR)"
   ]
  },
  {
   "cell_type": "code",
   "execution_count": 10,
   "id": "1a729a79",
   "metadata": {},
   "outputs": [],
   "source": [
    "from tqdm.notebook import tqdm"
   ]
  },
  {
   "cell_type": "code",
   "execution_count": 11,
   "id": "9abb4eeb",
   "metadata": {},
   "outputs": [],
   "source": [
    "def extract_features(images):\n",
    "    features = []\n",
    "    for image in tqdm(images):\n",
    "        img = load_img(image,grayscale =  True )\n",
    "        img = np.array(img)\n",
    "        features.append(img)\n",
    "    features = np.array(features)\n",
    "    features = features.reshape(len(features),48,48,1)\n",
    "    return features"
   ]
  },
  {
   "cell_type": "code",
   "execution_count": 12,
   "id": "14d9209f",
   "metadata": {},
   "outputs": [
    {
     "data": {
      "application/vnd.jupyter.widget-view+json": {
       "model_id": "4659f99861ab466caf717d48b6ffdbcd",
       "version_major": 2,
       "version_minor": 0
      },
      "text/plain": [
       "  0%|          | 0/28709 [00:00<?, ?it/s]"
      ]
     },
     "metadata": {},
     "output_type": "display_data"
    },
    {
     "name": "stderr",
     "output_type": "stream",
     "text": [
      "C:\\Users\\Lenovo\\anaconda3\\lib\\site-packages\\keras_preprocessing\\image\\utils.py:107: UserWarning: grayscale is deprecated. Please use color_mode = \"grayscale\"\n",
      "  warnings.warn('grayscale is deprecated. Please use '\n"
     ]
    }
   ],
   "source": [
    "train_features = extract_features(train['image']) "
   ]
  },
  {
   "cell_type": "code",
   "execution_count": 13,
   "id": "a8d89e1b",
   "metadata": {},
   "outputs": [
    {
     "data": {
      "application/vnd.jupyter.widget-view+json": {
       "model_id": "703511b9ea4f472eb2d88e7d85cdbbb4",
       "version_major": 2,
       "version_minor": 0
      },
      "text/plain": [
       "  0%|          | 0/7178 [00:00<?, ?it/s]"
      ]
     },
     "metadata": {},
     "output_type": "display_data"
    }
   ],
   "source": [
    "test_features = extract_features(test['image'])"
   ]
  },
  {
   "cell_type": "code",
   "execution_count": 14,
   "id": "a3d5a29c",
   "metadata": {},
   "outputs": [],
   "source": [
    "x_train = train_features/255.0\n",
    "x_test = test_features/255.0"
   ]
  },
  {
   "cell_type": "code",
   "execution_count": 15,
   "id": "8c3a6727",
   "metadata": {},
   "outputs": [
    {
     "data": {
      "text/plain": [
       "LabelEncoder()"
      ]
     },
     "execution_count": 15,
     "metadata": {},
     "output_type": "execute_result"
    }
   ],
   "source": [
    "from sklearn.preprocessing import LabelEncoder\n",
    "le = LabelEncoder()\n",
    "le.fit(train['label'])"
   ]
  },
  {
   "cell_type": "code",
   "execution_count": 16,
   "id": "9147e799",
   "metadata": {},
   "outputs": [],
   "source": [
    "y_train = le.transform(train['label'])\n",
    "y_test = le.transform(test['label'])\n",
    "y_train = to_categorical(y_train,num_classes = 7)\n",
    "y_test = to_categorical(y_test,num_classes = 7)"
   ]
  },
  {
   "cell_type": "code",
   "execution_count": 18,
   "id": "21edd34f",
   "metadata": {},
   "outputs": [],
   "source": [
    "model = Sequential()\n",
    "# convolutional layers\n",
    "model.add(Conv2D(128, kernel_size=(3,3), activation='relu', input_shape=(48,48,1)))\n",
    "model.add(MaxPooling2D(pool_size=(2,2)))\n",
    "model.add(Dropout(0.4))\n",
    "\n",
    "model.add(Conv2D(256, kernel_size=(3,3), activation='relu'))\n",
    "model.add(MaxPooling2D(pool_size=(2,2)))\n",
    "model.add(Dropout(0.4))\n",
    "\n",
    "model.add(Conv2D(512, kernel_size=(3,3), activation='relu'))\n",
    "model.add(MaxPooling2D(pool_size=(2,2)))\n",
    "model.add(Dropout(0.4))\n",
    "\n",
    "model.add(Conv2D(512, kernel_size=(3,3), activation='relu'))\n",
    "model.add(MaxPooling2D(pool_size=(2,2)))\n",
    "model.add(Dropout(0.4))\n",
    "\n",
    "model.add(Flatten())\n",
    "# fully connected layers\n",
    "model.add(Dense(512, activation='relu'))\n",
    "model.add(Dropout(0.4))\n",
    "model.add(Dense(256, activation='relu'))\n",
    "model.add(Dropout(0.3))\n",
    "# output layer\n",
    "model.add(Dense(7, activation='softmax'))"
   ]
  },
  {
   "cell_type": "code",
   "execution_count": 19,
   "id": "275d62d0",
   "metadata": {},
   "outputs": [
    {
     "name": "stdout",
     "output_type": "stream",
     "text": [
      "WARNING:tensorflow:From C:\\Users\\Lenovo\\anaconda3\\lib\\site-packages\\keras\\src\\optimizers\\__init__.py:309: The name tf.train.Optimizer is deprecated. Please use tf.compat.v1.train.Optimizer instead.\n",
      "\n"
     ]
    }
   ],
   "source": [
    "model.compile(optimizer = 'adam', loss = 'categorical_crossentropy', metrics = 'accuracy' )"
   ]
  },
  {
   "cell_type": "code",
   "execution_count": 20,
   "id": "24e47fdb",
   "metadata": {},
   "outputs": [
    {
     "name": "stdout",
     "output_type": "stream",
     "text": [
      "Epoch 1/100\n",
      "WARNING:tensorflow:From C:\\Users\\Lenovo\\anaconda3\\lib\\site-packages\\keras\\src\\utils\\tf_utils.py:492: The name tf.ragged.RaggedTensorValue is deprecated. Please use tf.compat.v1.ragged.RaggedTensorValue instead.\n",
      "\n",
      "WARNING:tensorflow:From C:\\Users\\Lenovo\\anaconda3\\lib\\site-packages\\keras\\src\\engine\\base_layer_utils.py:384: The name tf.executing_eagerly_outside_functions is deprecated. Please use tf.compat.v1.executing_eagerly_outside_functions instead.\n",
      "\n",
      "225/225 [==============================] - 177s 779ms/step - loss: 1.8225 - accuracy: 0.2471 - val_loss: 1.8160 - val_accuracy: 0.2471\n",
      "Epoch 2/100\n",
      "225/225 [==============================] - 167s 741ms/step - loss: 1.8047 - accuracy: 0.2534 - val_loss: 1.7947 - val_accuracy: 0.2559\n",
      "Epoch 3/100\n",
      "225/225 [==============================] - 176s 783ms/step - loss: 1.7398 - accuracy: 0.2825 - val_loss: 1.6595 - val_accuracy: 0.3266\n",
      "Epoch 4/100\n",
      "225/225 [==============================] - 177s 788ms/step - loss: 1.6304 - accuracy: 0.3540 - val_loss: 1.4871 - val_accuracy: 0.4280\n",
      "Epoch 5/100\n",
      "225/225 [==============================] - 164s 727ms/step - loss: 1.5203 - accuracy: 0.4044 - val_loss: 1.4229 - val_accuracy: 0.4464\n",
      "Epoch 6/100\n",
      "225/225 [==============================] - 162s 720ms/step - loss: 1.4490 - accuracy: 0.4394 - val_loss: 1.3311 - val_accuracy: 0.4925\n",
      "Epoch 7/100\n",
      "225/225 [==============================] - 163s 724ms/step - loss: 1.4073 - accuracy: 0.4592 - val_loss: 1.2995 - val_accuracy: 0.4974\n",
      "Epoch 8/100\n",
      "225/225 [==============================] - 174s 772ms/step - loss: 1.3677 - accuracy: 0.4720 - val_loss: 1.2585 - val_accuracy: 0.5222\n",
      "Epoch 9/100\n",
      "225/225 [==============================] - 165s 735ms/step - loss: 1.3432 - accuracy: 0.4839 - val_loss: 1.2344 - val_accuracy: 0.5300\n",
      "Epoch 10/100\n",
      "225/225 [==============================] - 174s 772ms/step - loss: 1.3162 - accuracy: 0.4982 - val_loss: 1.2183 - val_accuracy: 0.5339\n",
      "Epoch 11/100\n",
      "225/225 [==============================] - 170s 756ms/step - loss: 1.2897 - accuracy: 0.5056 - val_loss: 1.1990 - val_accuracy: 0.5346\n",
      "Epoch 12/100\n",
      "225/225 [==============================] - 172s 764ms/step - loss: 1.2675 - accuracy: 0.5152 - val_loss: 1.1707 - val_accuracy: 0.5522\n",
      "Epoch 13/100\n",
      "225/225 [==============================] - 161s 717ms/step - loss: 1.2537 - accuracy: 0.5220 - val_loss: 1.1610 - val_accuracy: 0.5539\n",
      "Epoch 14/100\n",
      "225/225 [==============================] - 157s 698ms/step - loss: 1.2414 - accuracy: 0.5252 - val_loss: 1.1465 - val_accuracy: 0.5593\n",
      "Epoch 15/100\n",
      "225/225 [==============================] - 156s 695ms/step - loss: 1.2281 - accuracy: 0.5323 - val_loss: 1.1360 - val_accuracy: 0.5628\n",
      "Epoch 16/100\n",
      "225/225 [==============================] - 154s 683ms/step - loss: 1.2159 - accuracy: 0.5427 - val_loss: 1.1516 - val_accuracy: 0.5557\n",
      "Epoch 17/100\n",
      "225/225 [==============================] - 155s 691ms/step - loss: 1.2045 - accuracy: 0.5447 - val_loss: 1.1390 - val_accuracy: 0.5667\n",
      "Epoch 18/100\n",
      "225/225 [==============================] - 162s 719ms/step - loss: 1.1894 - accuracy: 0.5495 - val_loss: 1.1085 - val_accuracy: 0.5743\n",
      "Epoch 19/100\n",
      "225/225 [==============================] - 156s 692ms/step - loss: 1.1814 - accuracy: 0.5523 - val_loss: 1.1019 - val_accuracy: 0.5776\n",
      "Epoch 20/100\n",
      "225/225 [==============================] - 157s 696ms/step - loss: 1.1699 - accuracy: 0.5570 - val_loss: 1.1102 - val_accuracy: 0.5733\n",
      "Epoch 21/100\n",
      "225/225 [==============================] - 157s 699ms/step - loss: 1.1615 - accuracy: 0.5609 - val_loss: 1.1136 - val_accuracy: 0.5748\n",
      "Epoch 22/100\n",
      "225/225 [==============================] - 157s 698ms/step - loss: 1.1526 - accuracy: 0.5596 - val_loss: 1.0885 - val_accuracy: 0.5907\n",
      "Epoch 23/100\n",
      "225/225 [==============================] - 163s 726ms/step - loss: 1.1385 - accuracy: 0.5678 - val_loss: 1.0890 - val_accuracy: 0.5879\n",
      "Epoch 24/100\n",
      "225/225 [==============================] - 157s 698ms/step - loss: 1.1288 - accuracy: 0.5719 - val_loss: 1.0991 - val_accuracy: 0.5885\n",
      "Epoch 25/100\n",
      "225/225 [==============================] - 157s 697ms/step - loss: 1.1221 - accuracy: 0.5766 - val_loss: 1.0727 - val_accuracy: 0.5924\n",
      "Epoch 26/100\n",
      "225/225 [==============================] - 157s 697ms/step - loss: 1.1141 - accuracy: 0.5783 - val_loss: 1.0734 - val_accuracy: 0.5995\n",
      "Epoch 27/100\n",
      "225/225 [==============================] - 163s 724ms/step - loss: 1.1069 - accuracy: 0.5817 - val_loss: 1.0806 - val_accuracy: 0.5938\n",
      "Epoch 28/100\n",
      "225/225 [==============================] - 165s 733ms/step - loss: 1.1030 - accuracy: 0.5794 - val_loss: 1.0670 - val_accuracy: 0.6027\n",
      "Epoch 29/100\n",
      "225/225 [==============================] - 161s 717ms/step - loss: 1.0874 - accuracy: 0.5908 - val_loss: 1.0614 - val_accuracy: 0.6032\n",
      "Epoch 30/100\n",
      "225/225 [==============================] - 158s 704ms/step - loss: 1.0844 - accuracy: 0.5892 - val_loss: 1.0696 - val_accuracy: 0.5922\n",
      "Epoch 31/100\n",
      "225/225 [==============================] - 157s 699ms/step - loss: 1.0829 - accuracy: 0.5908 - val_loss: 1.0626 - val_accuracy: 0.5954\n",
      "Epoch 32/100\n",
      "225/225 [==============================] - 157s 696ms/step - loss: 1.0657 - accuracy: 0.5976 - val_loss: 1.0543 - val_accuracy: 0.6017\n",
      "Epoch 33/100\n",
      "225/225 [==============================] - 157s 697ms/step - loss: 1.0638 - accuracy: 0.5992 - val_loss: 1.0536 - val_accuracy: 0.6060\n",
      "Epoch 34/100\n",
      "225/225 [==============================] - 156s 694ms/step - loss: 1.0517 - accuracy: 0.6023 - val_loss: 1.0404 - val_accuracy: 0.6021\n",
      "Epoch 35/100\n",
      "225/225 [==============================] - 156s 693ms/step - loss: 1.0480 - accuracy: 0.6039 - val_loss: 1.0457 - val_accuracy: 0.6030\n",
      "Epoch 36/100\n",
      "225/225 [==============================] - 156s 692ms/step - loss: 1.0444 - accuracy: 0.6083 - val_loss: 1.0472 - val_accuracy: 0.6021\n",
      "Epoch 37/100\n",
      "225/225 [==============================] - 155s 691ms/step - loss: 1.0349 - accuracy: 0.6139 - val_loss: 1.0398 - val_accuracy: 0.6073\n",
      "Epoch 38/100\n",
      "225/225 [==============================] - 169s 752ms/step - loss: 1.0261 - accuracy: 0.6147 - val_loss: 1.0381 - val_accuracy: 0.6096\n",
      "Epoch 39/100\n",
      "225/225 [==============================] - 168s 747ms/step - loss: 1.0332 - accuracy: 0.6104 - val_loss: 1.0421 - val_accuracy: 0.6101\n",
      "Epoch 40/100\n",
      "225/225 [==============================] - 165s 734ms/step - loss: 1.0218 - accuracy: 0.6140 - val_loss: 1.0408 - val_accuracy: 0.6082\n",
      "Epoch 41/100\n",
      "225/225 [==============================] - 166s 737ms/step - loss: 1.0183 - accuracy: 0.6176 - val_loss: 1.0422 - val_accuracy: 0.6096\n",
      "Epoch 42/100\n",
      "225/225 [==============================] - 167s 744ms/step - loss: 1.0058 - accuracy: 0.6205 - val_loss: 1.0348 - val_accuracy: 0.6081\n",
      "Epoch 43/100\n",
      "225/225 [==============================] - 160s 713ms/step - loss: 0.9984 - accuracy: 0.6240 - val_loss: 1.0331 - val_accuracy: 0.6087\n",
      "Epoch 44/100\n",
      "225/225 [==============================] - 157s 698ms/step - loss: 0.9928 - accuracy: 0.6304 - val_loss: 1.0300 - val_accuracy: 0.6110\n",
      "Epoch 45/100\n",
      "225/225 [==============================] - 157s 697ms/step - loss: 0.9941 - accuracy: 0.6274 - val_loss: 1.0200 - val_accuracy: 0.6209\n",
      "Epoch 46/100\n",
      "225/225 [==============================] - 157s 696ms/step - loss: 0.9874 - accuracy: 0.6277 - val_loss: 1.0369 - val_accuracy: 0.6105\n",
      "Epoch 47/100\n",
      "225/225 [==============================] - 157s 698ms/step - loss: 0.9864 - accuracy: 0.6316 - val_loss: 1.0228 - val_accuracy: 0.6166\n",
      "Epoch 48/100\n",
      "225/225 [==============================] - 157s 697ms/step - loss: 0.9681 - accuracy: 0.6384 - val_loss: 1.0209 - val_accuracy: 0.6174\n",
      "Epoch 49/100\n",
      "225/225 [==============================] - 157s 700ms/step - loss: 0.9740 - accuracy: 0.6356 - val_loss: 1.0187 - val_accuracy: 0.6181\n",
      "Epoch 50/100\n",
      "225/225 [==============================] - 158s 701ms/step - loss: 0.9732 - accuracy: 0.6344 - val_loss: 1.0242 - val_accuracy: 0.6152\n",
      "Epoch 51/100\n",
      "225/225 [==============================] - 158s 702ms/step - loss: 0.9558 - accuracy: 0.6424 - val_loss: 1.0137 - val_accuracy: 0.6216\n",
      "Epoch 52/100\n",
      "225/225 [==============================] - 164s 728ms/step - loss: 0.9631 - accuracy: 0.6395 - val_loss: 1.0191 - val_accuracy: 0.6222\n",
      "Epoch 53/100\n",
      "225/225 [==============================] - 152s 674ms/step - loss: 0.9553 - accuracy: 0.6445 - val_loss: 1.0167 - val_accuracy: 0.6236\n",
      "Epoch 54/100\n",
      "225/225 [==============================] - 208s 927ms/step - loss: 0.9516 - accuracy: 0.6426 - val_loss: 1.0191 - val_accuracy: 0.6176\n",
      "Epoch 55/100\n",
      "225/225 [==============================] - 167s 742ms/step - loss: 0.9407 - accuracy: 0.6468 - val_loss: 1.0259 - val_accuracy: 0.6165\n",
      "Epoch 56/100\n",
      "225/225 [==============================] - 154s 684ms/step - loss: 0.9353 - accuracy: 0.6481 - val_loss: 1.0285 - val_accuracy: 0.6126\n",
      "Epoch 57/100\n",
      "225/225 [==============================] - 155s 689ms/step - loss: 0.9333 - accuracy: 0.6522 - val_loss: 1.0094 - val_accuracy: 0.6265\n",
      "Epoch 58/100\n",
      "225/225 [==============================] - 152s 675ms/step - loss: 0.9238 - accuracy: 0.6570 - val_loss: 1.0118 - val_accuracy: 0.6201\n",
      "Epoch 59/100\n",
      "225/225 [==============================] - 152s 674ms/step - loss: 0.9225 - accuracy: 0.6571 - val_loss: 1.0144 - val_accuracy: 0.6201\n",
      "Epoch 60/100\n",
      "225/225 [==============================] - 151s 672ms/step - loss: 0.9173 - accuracy: 0.6586 - val_loss: 1.0266 - val_accuracy: 0.6184\n",
      "Epoch 61/100\n",
      "225/225 [==============================] - 151s 673ms/step - loss: 0.9139 - accuracy: 0.6607 - val_loss: 1.0286 - val_accuracy: 0.6180\n",
      "Epoch 62/100\n",
      "225/225 [==============================] - 152s 674ms/step - loss: 0.9123 - accuracy: 0.6607 - val_loss: 1.0229 - val_accuracy: 0.6205\n",
      "Epoch 63/100\n",
      "225/225 [==============================] - 151s 673ms/step - loss: 0.8983 - accuracy: 0.6666 - val_loss: 1.0229 - val_accuracy: 0.6209\n",
      "Epoch 64/100\n",
      "225/225 [==============================] - 157s 698ms/step - loss: 0.8996 - accuracy: 0.6625 - val_loss: 1.0180 - val_accuracy: 0.6243\n",
      "Epoch 65/100\n",
      "225/225 [==============================] - 152s 677ms/step - loss: 0.9035 - accuracy: 0.6662 - val_loss: 1.0113 - val_accuracy: 0.6266\n",
      "Epoch 66/100\n",
      "225/225 [==============================] - 153s 679ms/step - loss: 0.8941 - accuracy: 0.6658 - val_loss: 1.0198 - val_accuracy: 0.6213\n",
      "Epoch 67/100\n",
      "225/225 [==============================] - 151s 672ms/step - loss: 0.8852 - accuracy: 0.6717 - val_loss: 1.0147 - val_accuracy: 0.6213\n",
      "Epoch 68/100\n",
      "225/225 [==============================] - 151s 673ms/step - loss: 0.8795 - accuracy: 0.6737 - val_loss: 1.0103 - val_accuracy: 0.6259\n",
      "Epoch 69/100\n",
      "225/225 [==============================] - 151s 671ms/step - loss: 0.8724 - accuracy: 0.6722 - val_loss: 1.0163 - val_accuracy: 0.6283\n",
      "Epoch 70/100\n",
      "225/225 [==============================] - 151s 672ms/step - loss: 0.8805 - accuracy: 0.6743 - val_loss: 1.0125 - val_accuracy: 0.6240\n",
      "Epoch 71/100\n",
      "225/225 [==============================] - 151s 672ms/step - loss: 0.8663 - accuracy: 0.6785 - val_loss: 1.0142 - val_accuracy: 0.6250\n",
      "Epoch 72/100\n",
      "225/225 [==============================] - 204s 910ms/step - loss: 0.8717 - accuracy: 0.6798 - val_loss: 1.0109 - val_accuracy: 0.6258\n",
      "Epoch 73/100\n",
      "225/225 [==============================] - 152s 674ms/step - loss: 0.8551 - accuracy: 0.6831 - val_loss: 1.0098 - val_accuracy: 0.6276\n",
      "Epoch 74/100\n",
      "225/225 [==============================] - 152s 677ms/step - loss: 0.8534 - accuracy: 0.6839 - val_loss: 1.0154 - val_accuracy: 0.6259\n",
      "Epoch 75/100\n",
      "225/225 [==============================] - 151s 673ms/step - loss: 0.8525 - accuracy: 0.6837 - val_loss: 1.0219 - val_accuracy: 0.6237\n",
      "Epoch 76/100\n",
      "225/225 [==============================] - 151s 672ms/step - loss: 0.8574 - accuracy: 0.6855 - val_loss: 1.0125 - val_accuracy: 0.6262\n",
      "Epoch 77/100\n",
      "225/225 [==============================] - 151s 671ms/step - loss: 0.8479 - accuracy: 0.6840 - val_loss: 1.0041 - val_accuracy: 0.6329\n",
      "Epoch 78/100\n",
      "225/225 [==============================] - 152s 676ms/step - loss: 0.8365 - accuracy: 0.6918 - val_loss: 1.0217 - val_accuracy: 0.6216\n",
      "Epoch 79/100\n",
      "225/225 [==============================] - 153s 680ms/step - loss: 0.8446 - accuracy: 0.6897 - val_loss: 1.0060 - val_accuracy: 0.6340\n",
      "Epoch 80/100\n",
      "225/225 [==============================] - 154s 685ms/step - loss: 0.8286 - accuracy: 0.6932 - val_loss: 1.0156 - val_accuracy: 0.6332\n",
      "Epoch 81/100\n",
      "225/225 [==============================] - 153s 681ms/step - loss: 0.8297 - accuracy: 0.6972 - val_loss: 1.0196 - val_accuracy: 0.6315\n",
      "Epoch 82/100\n",
      "225/225 [==============================] - 154s 684ms/step - loss: 0.8186 - accuracy: 0.6979 - val_loss: 1.0130 - val_accuracy: 0.6326\n",
      "Epoch 83/100\n",
      "225/225 [==============================] - 154s 685ms/step - loss: 0.8254 - accuracy: 0.6977 - val_loss: 1.0040 - val_accuracy: 0.6402\n",
      "Epoch 84/100\n",
      "225/225 [==============================] - 154s 682ms/step - loss: 0.8207 - accuracy: 0.6975 - val_loss: 1.0157 - val_accuracy: 0.6297\n",
      "Epoch 85/100\n",
      "225/225 [==============================] - 154s 685ms/step - loss: 0.8152 - accuracy: 0.6999 - val_loss: 1.0110 - val_accuracy: 0.6280\n",
      "Epoch 86/100\n",
      "225/225 [==============================] - 153s 682ms/step - loss: 0.8048 - accuracy: 0.7023 - val_loss: 1.0429 - val_accuracy: 0.6158\n",
      "Epoch 87/100\n",
      "225/225 [==============================] - 153s 681ms/step - loss: 0.8057 - accuracy: 0.7032 - val_loss: 1.0218 - val_accuracy: 0.6251\n",
      "Epoch 88/100\n",
      "225/225 [==============================] - 151s 671ms/step - loss: 0.8003 - accuracy: 0.7057 - val_loss: 1.0255 - val_accuracy: 0.6279\n",
      "Epoch 89/100\n",
      "225/225 [==============================] - 151s 673ms/step - loss: 0.7952 - accuracy: 0.7061 - val_loss: 1.0290 - val_accuracy: 0.6216\n",
      "Epoch 90/100\n",
      "225/225 [==============================] - 151s 671ms/step - loss: 0.7961 - accuracy: 0.7087 - val_loss: 1.0228 - val_accuracy: 0.6282\n",
      "Epoch 91/100\n",
      "225/225 [==============================] - 151s 672ms/step - loss: 0.7954 - accuracy: 0.7079 - val_loss: 1.0240 - val_accuracy: 0.6229\n",
      "Epoch 92/100\n",
      "225/225 [==============================] - 151s 671ms/step - loss: 0.7837 - accuracy: 0.7121 - val_loss: 1.0300 - val_accuracy: 0.6283\n",
      "Epoch 93/100\n",
      "225/225 [==============================] - 151s 670ms/step - loss: 0.7875 - accuracy: 0.7134 - val_loss: 1.0256 - val_accuracy: 0.6303\n",
      "Epoch 94/100\n",
      "225/225 [==============================] - 151s 671ms/step - loss: 0.7817 - accuracy: 0.7141 - val_loss: 1.0070 - val_accuracy: 0.6350\n",
      "Epoch 95/100\n",
      "225/225 [==============================] - 151s 670ms/step - loss: 0.7804 - accuracy: 0.7133 - val_loss: 1.0186 - val_accuracy: 0.6340\n",
      "Epoch 96/100\n",
      "225/225 [==============================] - 151s 673ms/step - loss: 0.7741 - accuracy: 0.7203 - val_loss: 1.0119 - val_accuracy: 0.6372\n",
      "Epoch 97/100\n",
      "225/225 [==============================] - 151s 672ms/step - loss: 0.7681 - accuracy: 0.7200 - val_loss: 1.0158 - val_accuracy: 0.6300\n",
      "Epoch 98/100\n",
      "225/225 [==============================] - 151s 672ms/step - loss: 0.7660 - accuracy: 0.7201 - val_loss: 1.0278 - val_accuracy: 0.6342\n",
      "Epoch 99/100\n",
      "225/225 [==============================] - 151s 671ms/step - loss: 0.7700 - accuracy: 0.7220 - val_loss: 1.0235 - val_accuracy: 0.6314\n",
      "Epoch 100/100\n",
      "225/225 [==============================] - 151s 671ms/step - loss: 0.7614 - accuracy: 0.7203 - val_loss: 1.0216 - val_accuracy: 0.6371\n"
     ]
    },
    {
     "data": {
      "text/plain": [
       "<keras.src.callbacks.History at 0x24d779d5ca0>"
      ]
     },
     "execution_count": 20,
     "metadata": {},
     "output_type": "execute_result"
    }
   ],
   "source": [
    "model.fit(x= x_train,y = y_train, batch_size = 128, epochs = 100, validation_data = (x_test,y_test))"
   ]
  },
  {
   "cell_type": "code",
   "execution_count": 21,
   "id": "739bf1d1",
   "metadata": {},
   "outputs": [
    {
     "name": "stderr",
     "output_type": "stream",
     "text": [
      "C:\\Users\\Lenovo\\anaconda3\\lib\\site-packages\\keras\\src\\engine\\training.py:3103: UserWarning: You are saving your model as an HDF5 file via `model.save()`. This file format is considered legacy. We recommend using instead the native Keras format, e.g. `model.save('my_model.keras')`.\n",
      "  saving_api.save_model(\n"
     ]
    }
   ],
   "source": [
    "model_json = model.to_json()\n",
    "with open(\"emotiondetector.json\",'w') as json_file:\n",
    "    json_file.write(model_json)\n",
    "model.save(\"emotiondetector.h5\")"
   ]
  },
  {
   "cell_type": "code",
   "execution_count": 5,
   "id": "0853adfd",
   "metadata": {},
   "outputs": [
    {
     "name": "stdout",
     "output_type": "stream",
     "text": [
      "WARNING:tensorflow:From C:\\Users\\Lenovo\\anaconda3\\lib\\site-packages\\keras\\src\\backend.py:1398: The name tf.executing_eagerly_outside_functions is deprecated. Please use tf.compat.v1.executing_eagerly_outside_functions instead.\n",
      "\n",
      "WARNING:tensorflow:From C:\\Users\\Lenovo\\anaconda3\\lib\\site-packages\\keras\\src\\layers\\pooling\\max_pooling2d.py:161: The name tf.nn.max_pool is deprecated. Please use tf.nn.max_pool2d instead.\n",
      "\n"
     ]
    }
   ],
   "source": [
    "from keras.models import model_from_json\n",
    "\n",
    "json_file = open(\"emotiondetector.json\", \"r\")\n",
    "model_json = json_file.read()\n",
    "json_file.close()\n",
    "model = model_from_json(model_json)\n",
    "model.load_weights(\"emotiondetector.h5\")\n",
    "\n",
    "label = ['angry','disgust','fear','happy','neutral','sad','surprise']"
   ]
  },
  {
   "cell_type": "code",
   "execution_count": 6,
   "id": "b2937acd",
   "metadata": {},
   "outputs": [],
   "source": [
    "def ef(image):\n",
    "    img = load_img(image,grayscale =  True )\n",
    "    feature = np.array(img)\n",
    "    feature = feature.reshape(1,48,48,1)\n",
    "    return feature/255.0"
   ]
  },
  {
   "cell_type": "code",
   "execution_count": 7,
   "id": "24bfebbd",
   "metadata": {},
   "outputs": [
    {
     "name": "stdout",
     "output_type": "stream",
     "text": [
      "original image is of sad\n",
      "1/1 [==============================] - 0s 247ms/step\n",
      "model prediction is  sad\n"
     ]
    },
    {
     "data": {
      "text/plain": [
       "<matplotlib.image.AxesImage at 0x1ec376656d0>"
      ]
     },
     "execution_count": 7,
     "metadata": {},
     "output_type": "execute_result"
    },
    {
     "data": {
      "image/png": "[encoded data removed]",
      "text/plain": [
       "<Figure size 432x288 with 1 Axes>"
      ]
     },
     "metadata": {
      "needs_background": "light"
     },
     "output_type": "display_data"
    }
   ],
   "source": [
    "image = 'train/sad/Training_1369050.jpg'\n",
    "print(\"original image is of sad\")\n",
    "img = ef(image)\n",
    "pred = model.predict(img)\n",
    "pred_label = label[pred.argmax()]\n",
    "print(\"model prediction is \",pred_label)\n",
    "plt.imshow(img.reshape(48,48),cmap='gray')"
   ]
  },
  {
   "cell_type": "code",
   "execution_count": 8,
   "id": "84eab0f5",
   "metadata": {},
   "outputs": [
    {
     "name": "stdout",
     "output_type": "stream",
     "text": [
      "original image is of Disgust\n",
      "1/1 [==============================] - 0s 23ms/step\n",
      "model prediction is  neutral\n"
     ]
    },
    {
     "data": {
      "text/plain": [
       "<matplotlib.image.AxesImage at 0x1ec3771bca0>"
      ]
     },
     "execution_count": 8,
     "metadata": {},
     "output_type": "execute_result"
    },
    {
     "data": {
      "image/png": "[encoded data removed]",
      "text/plain": [
       "<Figure size 432x288 with 1 Axes>"
      ]
     },
     "metadata": {
      "needs_background": "light"
     },
     "output_type": "display_data"
    }
   ],
   "source": [
    "image = 'test/disgust/PrivateTest_3838250.jpg'\n",
    "print(\"original image is of Disgust\")\n",
    "img = ef(image)\n",
    "pred = model.predict(img)\n",
    "pred_label = label[pred.argmax()]\n",
    "print(\"model prediction is \",pred_label)\n",
    "plt.imshow(img.reshape(48,48),cmap='gray')"
   ]
  },
  {
   "cell_type": "code",
   "execution_count": 9,
   "id": "bacf810e",
   "metadata": {},
   "outputs": [
    {
     "name": "stdout",
     "output_type": "stream",
     "text": [
      "original image is of fear\n",
      "1/1 [==============================] - 0s 24ms/step\n",
      "model prediction is  fear\n"
     ]
    },
    {
     "data": {
      "text/plain": [
       "<matplotlib.image.AxesImage at 0x1ec3778c4c0>"
      ]
     },
     "execution_count": 9,
     "metadata": {},
     "output_type": "execute_result"
    },
    {
     "data": {
      "image/png": "[encoded data removed]",
      "text/plain": [
       "<Figure size 432x288 with 1 Axes>"
      ]
     },
     "metadata": {
      "needs_background": "light"
     },
     "output_type": "display_data"
    }
   ],
   "source": [
    "image = 'test/fear/PrivateTest_166793.jpg'\n",
    "print(\"original image is of fear\")\n",
    "img = ef(image)\n",
    "pred = model.predict(img)\n",
    "pred_label = label[pred.argmax()]\n",
    "print(\"model prediction is \",pred_label)\n",
    "plt.imshow(img.reshape(48,48),cmap='gray')"
   ]
  },
  {
   "cell_type": "code",
   "execution_count": 10,
   "id": "7c13f75f",
   "metadata": {},
   "outputs": [
    {
     "name": "stdout",
     "output_type": "stream",
     "text": [
      "original image is of happy\n",
      "1/1 [==============================] - 0s 24ms/step\n",
      "model prediction is  happy\n"
     ]
    },
    {
     "data": {
      "text/plain": [
       "<matplotlib.image.AxesImage at 0x1ec377e8a30>"
      ]
     },
     "execution_count": 10,
     "metadata": {},
     "output_type": "execute_result"
    },
    {
     "data": {
      "image/png": "[encoded data removed]",
      "text/plain": [
       "<Figure size 432x288 with 1 Axes>"
      ]
     },
     "metadata": {
      "needs_background": "light"
     },
     "output_type": "display_data"
    }
   ],
   "source": [
    "image = 'test/happy/PrivateTest_251881.jpg'\n",
    "print(\"original image is of happy\")\n",
    "img = ef(image)\n",
    "pred = model.predict(img)\n",
    "pred_label = label[pred.argmax()]\n",
    "print(\"model prediction is \",pred_label)\n",
    "plt.imshow(img.reshape(48,48),cmap='gray')"
   ]
  },
  {
   "cell_type": "code",
   "execution_count": 12,
   "id": "0b5d2dde",
   "metadata": {},
   "outputs": [
    {
     "name": "stdout",
     "output_type": "stream",
     "text": [
      "original image is of surprise\n",
      "1/1 [==============================] - 0s 23ms/step\n",
      "model prediction is  surprise\n"
     ]
    },
    {
     "data": {
      "text/plain": [
       "<matplotlib.image.AxesImage at 0x1ec378aa1f0>"
      ]
     },
     "execution_count": 12,
     "metadata": {},
     "output_type": "execute_result"
    },
    {
     "data": {
      "image/png": "[encoded data removed]",
      "text/plain": [
       "<Figure size 432x288 with 1 Axes>"
      ]
     },
     "metadata": {
      "needs_background": "light"
     },
     "output_type": "display_data"
    }
   ],
   "source": [
    "image = 'test/surprise/PrivateTest_139065.jpg'\n",
    "print(\"original image is of surprise\")\n",
    "img = ef(image)\n",
    "pred = model.predict(img)\n",
    "pred_label = label[pred.argmax()]\n",
    "print(\"model prediction is \",pred_label)\n",
    "plt.imshow(img.reshape(48,48),cmap='gray')"
   ]
  },
  {
   "cell_type": "code",
   "execution_count": null,
   "id": "02a5032c",
   "metadata": {},
   "outputs": [],
   "source": []
  }
 ],
 "metadata": {
  "kernelspec": {
   "display_name": "Python 3 (ipykernel)",
   "language": "python",
   "name": "python3"
  },
  "language_info": {
   "codemirror_mode": {
    "name": "ipython",
    "version": 3
   },
   "file_extension": ".py",
   "mimetype": "text/x-python",
   "name": "python",
   "nbconvert_exporter": "python",
   "pygments_lexer": "ipython3",
   "version": "3.9.12"
  }
 },
 "nbformat": 4,
 "nbformat_minor": 5
}
